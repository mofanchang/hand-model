{
 "cells": [
  {
   "cell_type": "code",
   "execution_count": 4,
   "id": "4357526c",
   "metadata": {},
   "outputs": [],
   "source": [
    "from keras.utils import np_utils\n",
    "from keras.models import Sequential\n",
    "from keras.layers import Dense, Dropout\n",
    "import pandas as pd\n",
    "import numpy as np"
   ]
  },
  {
   "cell_type": "code",
   "execution_count": null,
   "id": "91e90225",
   "metadata": {},
   "outputs": [],
   "source": [
    "#載入資料\n",
    "df = pd.read_csv('檔名', encoding='utf-8')"
   ]
  },
  {
   "cell_type": "code",
   "execution_count": null,
   "id": "e50078f1",
   "metadata": {},
   "outputs": [],
   "source": [
    "#資料預處理\n",
    "#資料標準化\n",
    "\n",
    "#分割資料\n",
    "reshaped_data = np.array(data)\n",
    "x = reshaped_data[:, :-1]\n",
    "y = reshaped_data[:, -1]\n",
    "split_boundary = int(reshaped_data.shape[0]*0.8)\n",
    "train_feature = x[: split_boundary]\n",
    "test_feature = x[split_boundary:]\n",
    "train_label = y[: split_boundary]\n",
    "test_label = y[split_boundary:]\n",
    "print(\"測試資料數量:\", train_feature)\n",
    "print(\"訓練資料數量:\", test_feature)"
   ]
  },
  {
   "cell_type": "code",
   "execution_count": null,
   "id": "d63da4b5",
   "metadata": {},
   "outputs": [],
   "source": [
    "#訓練模型\n",
    "model = Sequential()\n",
    "n = 0.2\n",
    "model.add(Dense(units=32, input_dim=20, activation='relu'))    #輸入20個特徵\n",
    "model.add(Dropout(n))\n",
    "model.add(Dense(units=64, activation='relu'))\n",
    "model.add(Dropout(n))\n",
    "model.add(Dense(units=128, activation='relu'))\n",
    "model.add(Dropout(n))\n",
    "model.add(Dense(units=256, activation='relu'))\n",
    "model.add(Dropout(n))\n",
    "model.add(Dense(units=5, activation='softmax'))   #輸出為5個分類\n",
    "model.compile(loss='categorical_crossentropy', optimizer='adam', metrics=['accuracy'])\n",
    "fitmodel = model.fit(x=train_feature, y=train_label, validation_split=0.2, epochs=40, batch_size=20, verbose=2)\n",
    "score = model.evaluate(x=test_feature, y=test_label, verbose=2)\n",
    "print('\\n測試資料準確率:', score[1])"
   ]
  }
 ],
 "metadata": {
  "kernelspec": {
   "display_name": "Python 3 (ipykernel)",
   "language": "python",
   "name": "python3"
  },
  "language_info": {
   "codemirror_mode": {
    "name": "ipython",
    "version": 3
   },
   "file_extension": ".py",
   "mimetype": "text/x-python",
   "name": "python",
   "nbconvert_exporter": "python",
   "pygments_lexer": "ipython3",
   "version": "3.8.15"
  }
 },
 "nbformat": 4,
 "nbformat_minor": 5
}
